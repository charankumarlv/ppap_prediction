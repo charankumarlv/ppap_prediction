{
 "cells": [
  {
   "cell_type": "code",
   "execution_count": 16,
   "id": "4eb976a8-0a26-43ad-a6ca-5bb4aee25049",
   "metadata": {},
   "outputs": [],
   "source": [
    "import pandas as pd\n",
    "from sklearn.model_selection import train_test_split, GridSearchCV, cross_val_score\n",
    "from sklearn.linear_model import LinearRegression\n",
    "from sklearn.tree import DecisionTreeRegressor\n",
    "from sklearn.ensemble import RandomForestRegressor, GradientBoostingRegressor\n",
    "from sklearn.svm import SVR\n",
    "import xgboost as xgb\n",
    "from sklearn.metrics import mean_absolute_error, mean_squared_error, r2_score\n",
    "import numpy as np\n",
    "import matplotlib.pyplot as plt\n",
    "import joblib\n",
    "from sklearn.ensemble import IsolationForest\n",
    "from sklearn.preprocessing import LabelEncoder\n"
   ]
  },
  {
   "cell_type": "code",
   "execution_count": 19,
   "id": "1422ad79-c36d-4f66-b3b3-4ddd126baabc",
   "metadata": {},
   "outputs": [
    {
     "data": {
      "text/plain": [
       "['anomaly_model.pkl']"
      ]
     },
     "execution_count": 19,
     "metadata": {},
     "output_type": "execute_result"
    }
   ],
   "source": [
    "# Load the generated data\n",
    "supplier_data = pd.read_csv('supplier_data.csv')\n",
    "\n",
    "# Encode part_type as numeric\n",
    "le = LabelEncoder()\n",
    "supplier_data['part_type_encoded'] = le.fit_transform(supplier_data['part_type'])\n",
    "\n",
    "# Convert dates to ordinal for regression\n",
    "supplier_data['order_date_ordinal'] = pd.to_datetime(supplier_data['order_date']).apply(lambda x: x.toordinal())\n",
    "supplier_data['delivery_date_ordinal'] = pd.to_datetime(supplier_data['delivery_date']).apply(lambda x: x.toordinal())\n",
    "\n",
    "# Define Features and Target for delivery date prediction\n",
    "X = supplier_data[['order_date_ordinal', 'supplier_id', 'num_parts_ordered', 'part_type_encoded']]\n",
    "y = supplier_data['delivery_date_ordinal']\n",
    "\n",
    "# Split the Data into Training and Testing Sets\n",
    "X_train, X_test, y_train, y_test = train_test_split(X, y, test_size=0.2, random_state=42)\n",
    "\n",
    "# Train the Random Forest Regressor\n",
    "rf_model = RandomForestRegressor(n_estimators=100, random_state=42)\n",
    "rf_model.fit(X_train, y_train)\n",
    "\n",
    "# Save the Delivery Date Prediction Model\n",
    "joblib.dump(rf_model, 'rf_delivery_model.pkl')\n",
    "\n",
    "# Define Features for anomaly detection (including all parameters behind the scenes)\n",
    "features = ['defect_rate', 'on_time_delivery_rate', 'compliance_score', 'financial_health', 'num_parts_ordered', 'part_type_encoded']\n",
    "\n",
    "# Train the Isolation Forest model\n",
    "anomaly_model = IsolationForest(contamination=0.05, random_state=42)\n",
    "anomaly_model.fit(supplier_data[features])\n",
    "\n",
    "# Save the Anomaly Detection Model\n",
    "joblib.dump(anomaly_model, 'anomaly_model.pkl')"
   ]
  },
  {
   "cell_type": "code",
   "execution_count": 18,
   "id": "7db27fc6-1bbe-42b6-916c-ff21b49af00b",
   "metadata": {},
   "outputs": [
    {
     "data": {
      "text/plain": [
       "['anomaly_model.pkl']"
      ]
     },
     "execution_count": 18,
     "metadata": {},
     "output_type": "execute_result"
    }
   ],
   "source": []
  },
  {
   "cell_type": "code",
   "execution_count": null,
   "id": "86f10d31-4a9a-4319-a336-861e3f0c5abb",
   "metadata": {},
   "outputs": [],
   "source": []
  }
 ],
 "metadata": {
  "kernelspec": {
   "display_name": "Python 3 (ipykernel)",
   "language": "python",
   "name": "python3"
  },
  "language_info": {
   "codemirror_mode": {
    "name": "ipython",
    "version": 3
   },
   "file_extension": ".py",
   "mimetype": "text/x-python",
   "name": "python",
   "nbconvert_exporter": "python",
   "pygments_lexer": "ipython3",
   "version": "3.12.3"
  }
 },
 "nbformat": 4,
 "nbformat_minor": 5
}
